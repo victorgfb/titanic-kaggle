{
 "cells": [
  {
   "cell_type": "code",
   "execution_count": 1,
   "id": "fe6473b5-e250-4a51-b1a9-07745608576e",
   "metadata": {},
   "outputs": [],
   "source": [
    "from pyspark.sql import SparkSession\n",
    "from pyspark.sql.functions import isnan, when, count, col,isnull, mean, udf\n",
    "from pyspark.context import SparkContext as sc"
   ]
  },
  {
   "cell_type": "code",
   "execution_count": 2,
   "id": "6b70569a-f701-46b5-8a59-4b82e1366841",
   "metadata": {},
   "outputs": [],
   "source": [
    "spark=SparkSession.builder.appName('titanic').getOrCreate()"
   ]
  },
  {
   "cell_type": "code",
   "execution_count": 3,
   "id": "4075c5fc-5919-424d-8b28-60196a5ada39",
   "metadata": {},
   "outputs": [],
   "source": [
    "data = spark.read.csv('train.csv',header=True,inferSchema=True)\n"
   ]
  },
  {
   "cell_type": "code",
   "execution_count": 4,
   "id": "41187096-be21-4cd1-8d69-44c638dc5b21",
   "metadata": {},
   "outputs": [
    {
     "name": "stdout",
     "output_type": "stream",
     "text": [
      "root\n",
      " |-- PassengerId: integer (nullable = true)\n",
      " |-- Survived: integer (nullable = true)\n",
      " |-- Pclass: integer (nullable = true)\n",
      " |-- Name: string (nullable = true)\n",
      " |-- Sex: string (nullable = true)\n",
      " |-- Age: double (nullable = true)\n",
      " |-- SibSp: integer (nullable = true)\n",
      " |-- Parch: integer (nullable = true)\n",
      " |-- Ticket: string (nullable = true)\n",
      " |-- Fare: double (nullable = true)\n",
      " |-- Cabin: string (nullable = true)\n",
      " |-- Embarked: string (nullable = true)\n",
      "\n"
     ]
    }
   ],
   "source": [
    "data.printSchema()"
   ]
  },
  {
   "cell_type": "code",
   "execution_count": 5,
   "id": "33b480b3-01fd-4403-9dae-082f68825e77",
   "metadata": {},
   "outputs": [
    {
     "name": "stdout",
     "output_type": "stream",
     "text": [
      "+-----------+--------+------+--------------------+------+----+-----+-----+----------------+-------+-----+--------+\n",
      "|PassengerId|Survived|Pclass|                Name|   Sex| Age|SibSp|Parch|          Ticket|   Fare|Cabin|Embarked|\n",
      "+-----------+--------+------+--------------------+------+----+-----+-----+----------------+-------+-----+--------+\n",
      "|          1|       0|     3|Braund, Mr. Owen ...|  male|22.0|    1|    0|       A/5 21171|   7.25| null|       S|\n",
      "|          2|       1|     1|Cumings, Mrs. Joh...|female|38.0|    1|    0|        PC 17599|71.2833|  C85|       C|\n",
      "|          3|       1|     3|Heikkinen, Miss. ...|female|26.0|    0|    0|STON/O2. 3101282|  7.925| null|       S|\n",
      "|          4|       1|     1|Futrelle, Mrs. Ja...|female|35.0|    1|    0|          113803|   53.1| C123|       S|\n",
      "|          5|       0|     3|Allen, Mr. Willia...|  male|35.0|    0|    0|          373450|   8.05| null|       S|\n",
      "|          6|       0|     3|    Moran, Mr. James|  male|null|    0|    0|          330877| 8.4583| null|       Q|\n",
      "|          7|       0|     1|McCarthy, Mr. Tim...|  male|54.0|    0|    0|           17463|51.8625|  E46|       S|\n",
      "|          8|       0|     3|Palsson, Master. ...|  male| 2.0|    3|    1|          349909| 21.075| null|       S|\n",
      "|          9|       1|     3|Johnson, Mrs. Osc...|female|27.0|    0|    2|          347742|11.1333| null|       S|\n",
      "|         10|       1|     2|Nasser, Mrs. Nich...|female|14.0|    1|    0|          237736|30.0708| null|       C|\n",
      "|         11|       1|     3|Sandstrom, Miss. ...|female| 4.0|    1|    1|         PP 9549|   16.7|   G6|       S|\n",
      "|         12|       1|     1|Bonnell, Miss. El...|female|58.0|    0|    0|          113783|  26.55| C103|       S|\n",
      "|         13|       0|     3|Saundercock, Mr. ...|  male|20.0|    0|    0|       A/5. 2151|   8.05| null|       S|\n",
      "|         14|       0|     3|Andersson, Mr. An...|  male|39.0|    1|    5|          347082| 31.275| null|       S|\n",
      "|         15|       0|     3|Vestrom, Miss. Hu...|female|14.0|    0|    0|          350406| 7.8542| null|       S|\n",
      "|         16|       1|     2|Hewlett, Mrs. (Ma...|female|55.0|    0|    0|          248706|   16.0| null|       S|\n",
      "|         17|       0|     3|Rice, Master. Eugene|  male| 2.0|    4|    1|          382652| 29.125| null|       Q|\n",
      "|         18|       1|     2|Williams, Mr. Cha...|  male|null|    0|    0|          244373|   13.0| null|       S|\n",
      "|         19|       0|     3|Vander Planke, Mr...|female|31.0|    1|    0|          345763|   18.0| null|       S|\n",
      "|         20|       1|     3|Masselmani, Mrs. ...|female|null|    0|    0|            2649|  7.225| null|       C|\n",
      "+-----------+--------+------+--------------------+------+----+-----+-----+----------------+-------+-----+--------+\n",
      "only showing top 20 rows\n",
      "\n"
     ]
    }
   ],
   "source": [
    "data.show()"
   ]
  },
  {
   "cell_type": "code",
   "execution_count": 6,
   "id": "03caaeb2-bc92-4a2c-812e-73cc6f4a9f59",
   "metadata": {},
   "outputs": [
    {
     "data": {
      "text/plain": [
       "891"
      ]
     },
     "execution_count": 6,
     "metadata": {},
     "output_type": "execute_result"
    }
   ],
   "source": [
    "data.count()"
   ]
  },
  {
   "cell_type": "code",
   "execution_count": 7,
   "id": "1b192750-9e66-4106-9005-76d49394d666",
   "metadata": {},
   "outputs": [
    {
     "data": {
      "text/plain": [
       "687"
      ]
     },
     "execution_count": 7,
     "metadata": {},
     "output_type": "execute_result"
    }
   ],
   "source": [
    "data.filter(data[\"Cabin\"].isNull()).count()\n",
    "#data.filter(isnull(col(\"Cabin\"))).count()"
   ]
  },
  {
   "cell_type": "code",
   "execution_count": 8,
   "id": "bbeff5b3-fb6f-42c0-9c81-a2a03fc49344",
   "metadata": {},
   "outputs": [
    {
     "data": {
      "text/plain": [
       "{'PassengerId': 0,\n",
       " 'Survived': 0,\n",
       " 'Pclass': 0,\n",
       " 'Name': 0,\n",
       " 'Sex': 0,\n",
       " 'Age': 177,\n",
       " 'SibSp': 0,\n",
       " 'Parch': 0,\n",
       " 'Ticket': 0,\n",
       " 'Fare': 0,\n",
       " 'Cabin': 687,\n",
       " 'Embarked': 2}"
      ]
     },
     "execution_count": 8,
     "metadata": {},
     "output_type": "execute_result"
    }
   ],
   "source": [
    "{c :data.filter(isnull(col(c))).count() for c in data.columns}"
   ]
  },
  {
   "cell_type": "code",
   "execution_count": 9,
   "id": "9b96d0ea-d186-4e4b-8554-af6a875853f7",
   "metadata": {},
   "outputs": [],
   "source": [
    "data = data.drop('Cabin')\n",
    "data = data.drop('PassengerId')\n",
    "data = data.drop('Ticket')"
   ]
  },
  {
   "cell_type": "code",
   "execution_count": 10,
   "id": "23d2bd0f-d063-4318-947a-0a7c135a75a5",
   "metadata": {},
   "outputs": [],
   "source": [
    "data = data.withColumn('Sex', when(data.Sex == 'male', 0).otherwise(1))"
   ]
  },
  {
   "cell_type": "code",
   "execution_count": 11,
   "id": "7d28f0b4-b1bb-4cbc-86f3-9b188bf04b8d",
   "metadata": {},
   "outputs": [
    {
     "name": "stdout",
     "output_type": "stream",
     "text": [
      "+--------+------+--------------------+---+----+-----+-----+-------+--------+\n",
      "|Survived|Pclass|                Name|Sex| Age|SibSp|Parch|   Fare|Embarked|\n",
      "+--------+------+--------------------+---+----+-----+-----+-------+--------+\n",
      "|       0|     3|Braund, Mr. Owen ...|  0|22.0|    1|    0|   7.25|       S|\n",
      "|       1|     1|Cumings, Mrs. Joh...|  1|38.0|    1|    0|71.2833|       C|\n",
      "|       1|     3|Heikkinen, Miss. ...|  1|26.0|    0|    0|  7.925|       S|\n",
      "|       1|     1|Futrelle, Mrs. Ja...|  1|35.0|    1|    0|   53.1|       S|\n",
      "|       0|     3|Allen, Mr. Willia...|  0|35.0|    0|    0|   8.05|       S|\n",
      "|       0|     3|    Moran, Mr. James|  0|null|    0|    0| 8.4583|       Q|\n",
      "|       0|     1|McCarthy, Mr. Tim...|  0|54.0|    0|    0|51.8625|       S|\n",
      "|       0|     3|Palsson, Master. ...|  0| 2.0|    3|    1| 21.075|       S|\n",
      "|       1|     3|Johnson, Mrs. Osc...|  1|27.0|    0|    2|11.1333|       S|\n",
      "|       1|     2|Nasser, Mrs. Nich...|  1|14.0|    1|    0|30.0708|       C|\n",
      "|       1|     3|Sandstrom, Miss. ...|  1| 4.0|    1|    1|   16.7|       S|\n",
      "|       1|     1|Bonnell, Miss. El...|  1|58.0|    0|    0|  26.55|       S|\n",
      "|       0|     3|Saundercock, Mr. ...|  0|20.0|    0|    0|   8.05|       S|\n",
      "|       0|     3|Andersson, Mr. An...|  0|39.0|    1|    5| 31.275|       S|\n",
      "|       0|     3|Vestrom, Miss. Hu...|  1|14.0|    0|    0| 7.8542|       S|\n",
      "|       1|     2|Hewlett, Mrs. (Ma...|  1|55.0|    0|    0|   16.0|       S|\n",
      "|       0|     3|Rice, Master. Eugene|  0| 2.0|    4|    1| 29.125|       Q|\n",
      "|       1|     2|Williams, Mr. Cha...|  0|null|    0|    0|   13.0|       S|\n",
      "|       0|     3|Vander Planke, Mr...|  1|31.0|    1|    0|   18.0|       S|\n",
      "|       1|     3|Masselmani, Mrs. ...|  1|null|    0|    0|  7.225|       C|\n",
      "+--------+------+--------------------+---+----+-----+-----+-------+--------+\n",
      "only showing top 20 rows\n",
      "\n"
     ]
    }
   ],
   "source": [
    "data.show()"
   ]
  },
  {
   "cell_type": "code",
   "execution_count": 12,
   "id": "46048d2d-3457-4560-bef8-bd6f8a2b7202",
   "metadata": {},
   "outputs": [
    {
     "name": "stdout",
     "output_type": "stream",
     "text": [
      "+--------+-----+\n",
      "|Embarked|count|\n",
      "+--------+-----+\n",
      "|       Q|   77|\n",
      "|    null|    2|\n",
      "|       C|  168|\n",
      "|       S|  644|\n",
      "+--------+-----+\n",
      "\n"
     ]
    }
   ],
   "source": [
    "data.groupBy(\"Embarked\").count().show()"
   ]
  },
  {
   "cell_type": "code",
   "execution_count": 13,
   "id": "11a32c21-d7ea-419d-a960-cb54a0b5b04a",
   "metadata": {},
   "outputs": [],
   "source": [
    "mean_age = int(data.agg({'Age': 'mean'}).first()[0])"
   ]
  },
  {
   "cell_type": "code",
   "execution_count": 14,
   "id": "dfa8a569-3806-4f0c-95ad-03c300e48745",
   "metadata": {},
   "outputs": [],
   "source": [
    "data = data.fillna({'Embarked': 'S', 'Age' : mean_age })"
   ]
  },
  {
   "cell_type": "code",
   "execution_count": 15,
   "id": "2ef78b48-3c04-4a34-af8b-87ed5fe247ec",
   "metadata": {},
   "outputs": [],
   "source": [
    "data = data.withColumn('Embarked', when(data.Embarked == 'S', 0) .when(data.Embarked == 'C', 1) .when(data.Embarked == 'Q', 2))"
   ]
  },
  {
   "cell_type": "code",
   "execution_count": 16,
   "id": "342266ba-6fa9-4aa1-9406-c155482badc2",
   "metadata": {},
   "outputs": [
    {
     "name": "stdout",
     "output_type": "stream",
     "text": [
      "+--------+------+--------------------+---+----+-----+-----+-------+--------+\n",
      "|Survived|Pclass|                Name|Sex| Age|SibSp|Parch|   Fare|Embarked|\n",
      "+--------+------+--------------------+---+----+-----+-----+-------+--------+\n",
      "|       0|     3|Braund, Mr. Owen ...|  0|22.0|    1|    0|   7.25|       0|\n",
      "|       1|     1|Cumings, Mrs. Joh...|  1|38.0|    1|    0|71.2833|       1|\n",
      "|       1|     3|Heikkinen, Miss. ...|  1|26.0|    0|    0|  7.925|       0|\n",
      "|       1|     1|Futrelle, Mrs. Ja...|  1|35.0|    1|    0|   53.1|       0|\n",
      "|       0|     3|Allen, Mr. Willia...|  0|35.0|    0|    0|   8.05|       0|\n",
      "|       0|     3|    Moran, Mr. James|  0|29.0|    0|    0| 8.4583|       2|\n",
      "|       0|     1|McCarthy, Mr. Tim...|  0|54.0|    0|    0|51.8625|       0|\n",
      "|       0|     3|Palsson, Master. ...|  0| 2.0|    3|    1| 21.075|       0|\n",
      "|       1|     3|Johnson, Mrs. Osc...|  1|27.0|    0|    2|11.1333|       0|\n",
      "|       1|     2|Nasser, Mrs. Nich...|  1|14.0|    1|    0|30.0708|       1|\n",
      "|       1|     3|Sandstrom, Miss. ...|  1| 4.0|    1|    1|   16.7|       0|\n",
      "|       1|     1|Bonnell, Miss. El...|  1|58.0|    0|    0|  26.55|       0|\n",
      "|       0|     3|Saundercock, Mr. ...|  0|20.0|    0|    0|   8.05|       0|\n",
      "|       0|     3|Andersson, Mr. An...|  0|39.0|    1|    5| 31.275|       0|\n",
      "|       0|     3|Vestrom, Miss. Hu...|  1|14.0|    0|    0| 7.8542|       0|\n",
      "|       1|     2|Hewlett, Mrs. (Ma...|  1|55.0|    0|    0|   16.0|       0|\n",
      "|       0|     3|Rice, Master. Eugene|  0| 2.0|    4|    1| 29.125|       2|\n",
      "|       1|     2|Williams, Mr. Cha...|  0|29.0|    0|    0|   13.0|       0|\n",
      "|       0|     3|Vander Planke, Mr...|  1|31.0|    1|    0|   18.0|       0|\n",
      "|       1|     3|Masselmani, Mrs. ...|  1|29.0|    0|    0|  7.225|       1|\n",
      "+--------+------+--------------------+---+----+-----+-----+-------+--------+\n",
      "only showing top 20 rows\n",
      "\n"
     ]
    }
   ],
   "source": [
    "data.show()"
   ]
  },
  {
   "cell_type": "code",
   "execution_count": 17,
   "id": "0605dc89-1584-4b2a-bd2a-fbc3797b8ed1",
   "metadata": {},
   "outputs": [],
   "source": [
    "def pronoun(name):\n",
    "    \n",
    "    if('Miss.' in name):\n",
    "        return 1\n",
    "    if('Ms.' in name):\n",
    "        return 2\n",
    "    if('Mrs.' in name):\n",
    "        return 3\n",
    "    if('Mr.' in name):\n",
    "        return 3\n",
    "    if('Rev.' in name):\n",
    "        return 4\n",
    "    if('Dr.' in name):\n",
    "        return 5\n",
    "    if('Capt.' in name):\n",
    "        return 6\n",
    "    if('Master.' in name):\n",
    "        return 7\n",
    "    if('Major.' in name):\n",
    "        return 8\n",
    "    if('Col.' in name):\n",
    "        return 9\n",
    "    else:\n",
    "        return 0\n"
   ]
  },
  {
   "cell_type": "code",
   "execution_count": 18,
   "id": "3388197f-894a-4d87-a7cb-47edbe6af592",
   "metadata": {},
   "outputs": [],
   "source": [
    "from pyspark.sql.types import IntegerType\n",
    "\n",
    "udfpronoun = udf(pronoun, IntegerType())"
   ]
  },
  {
   "cell_type": "code",
   "execution_count": 19,
   "id": "01051ce6-3a63-4d32-8c44-3301ac2f6a33",
   "metadata": {},
   "outputs": [],
   "source": [
    "data = data.withColumn(\"Pronoun\", udfpronoun(\"Name\"))"
   ]
  },
  {
   "cell_type": "code",
   "execution_count": 20,
   "id": "e849517d-635e-427d-b278-22197f91f99d",
   "metadata": {},
   "outputs": [],
   "source": [
    "data = data.drop('Name')"
   ]
  },
  {
   "cell_type": "code",
   "execution_count": 21,
   "id": "49f4e9b3-1c29-414f-b840-4273341b2f16",
   "metadata": {},
   "outputs": [],
   "source": [
    "data = data.withColumn(\"Age\", data[\"Age\"].cast(IntegerType()))"
   ]
  },
  {
   "cell_type": "code",
   "execution_count": 22,
   "id": "5bba4b00-141d-4c00-af90-bb5bbb38d4af",
   "metadata": {},
   "outputs": [
    {
     "name": "stdout",
     "output_type": "stream",
     "text": [
      "+--------+------+---+---+-----+-----+-------+--------+-------+\n",
      "|Survived|Pclass|Sex|Age|SibSp|Parch|   Fare|Embarked|Pronoun|\n",
      "+--------+------+---+---+-----+-----+-------+--------+-------+\n",
      "|       0|     3|  0| 22|    1|    0|   7.25|       0|      3|\n",
      "|       1|     1|  1| 38|    1|    0|71.2833|       1|      3|\n",
      "|       1|     3|  1| 26|    0|    0|  7.925|       0|      1|\n",
      "|       1|     1|  1| 35|    1|    0|   53.1|       0|      3|\n",
      "|       0|     3|  0| 35|    0|    0|   8.05|       0|      3|\n",
      "|       0|     3|  0| 29|    0|    0| 8.4583|       2|      3|\n",
      "|       0|     1|  0| 54|    0|    0|51.8625|       0|      3|\n",
      "|       0|     3|  0|  2|    3|    1| 21.075|       0|      7|\n",
      "|       1|     3|  1| 27|    0|    2|11.1333|       0|      3|\n",
      "|       1|     2|  1| 14|    1|    0|30.0708|       1|      3|\n",
      "|       1|     3|  1|  4|    1|    1|   16.7|       0|      1|\n",
      "|       1|     1|  1| 58|    0|    0|  26.55|       0|      1|\n",
      "|       0|     3|  0| 20|    0|    0|   8.05|       0|      3|\n",
      "|       0|     3|  0| 39|    1|    5| 31.275|       0|      3|\n",
      "|       0|     3|  1| 14|    0|    0| 7.8542|       0|      1|\n",
      "|       1|     2|  1| 55|    0|    0|   16.0|       0|      3|\n",
      "|       0|     3|  0|  2|    4|    1| 29.125|       2|      7|\n",
      "|       1|     2|  0| 29|    0|    0|   13.0|       0|      3|\n",
      "|       0|     3|  1| 31|    1|    0|   18.0|       0|      3|\n",
      "|       1|     3|  1| 29|    0|    0|  7.225|       1|      3|\n",
      "+--------+------+---+---+-----+-----+-------+--------+-------+\n",
      "only showing top 20 rows\n",
      "\n"
     ]
    }
   ],
   "source": [
    "data.show()"
   ]
  },
  {
   "cell_type": "code",
   "execution_count": 23,
   "id": "8797e583-0be2-41d9-9cf5-b91e5de2d1cf",
   "metadata": {},
   "outputs": [
    {
     "name": "stdout",
     "output_type": "stream",
     "text": [
      "root\n",
      " |-- Survived: integer (nullable = true)\n",
      " |-- Pclass: integer (nullable = true)\n",
      " |-- Sex: integer (nullable = false)\n",
      " |-- Age: integer (nullable = true)\n",
      " |-- SibSp: integer (nullable = true)\n",
      " |-- Parch: integer (nullable = true)\n",
      " |-- Fare: double (nullable = true)\n",
      " |-- Embarked: integer (nullable = true)\n",
      " |-- Pronoun: integer (nullable = true)\n",
      "\n"
     ]
    }
   ],
   "source": [
    "data.printSchema()"
   ]
  },
  {
   "cell_type": "code",
   "execution_count": 24,
   "id": "c003042e-7274-49b4-8f4d-32e6668b2106",
   "metadata": {},
   "outputs": [],
   "source": [
    "from pyspark.ml.feature import VectorAssembler\n",
    "\n",
    "featureassembler = VectorAssembler(     \n",
    "    inputCols=['Pclass', 'Sex','Age', 'SibSp', 'Parch', 'Fare', 'Embarked', 'Pronoun'],\n",
    "    outputCol=\"Ind\"\n",
    ")"
   ]
  },
  {
   "cell_type": "code",
   "execution_count": 25,
   "id": "2c62e498-f2f7-427e-8d4c-a501f9445b0b",
   "metadata": {},
   "outputs": [
    {
     "name": "stdout",
     "output_type": "stream",
     "text": [
      "+--------+------+---+---+-----+-----+-------+--------+-------+\n",
      "|Survived|Pclass|Sex|Age|SibSp|Parch|   Fare|Embarked|Pronoun|\n",
      "+--------+------+---+---+-----+-----+-------+--------+-------+\n",
      "|       0|     3|  0| 22|    1|    0|   7.25|       0|      3|\n",
      "|       1|     1|  1| 38|    1|    0|71.2833|       1|      3|\n",
      "|       1|     3|  1| 26|    0|    0|  7.925|       0|      1|\n",
      "|       1|     1|  1| 35|    1|    0|   53.1|       0|      3|\n",
      "|       0|     3|  0| 35|    0|    0|   8.05|       0|      3|\n",
      "|       0|     3|  0| 29|    0|    0| 8.4583|       2|      3|\n",
      "|       0|     1|  0| 54|    0|    0|51.8625|       0|      3|\n",
      "|       0|     3|  0|  2|    3|    1| 21.075|       0|      7|\n",
      "|       1|     3|  1| 27|    0|    2|11.1333|       0|      3|\n",
      "|       1|     2|  1| 14|    1|    0|30.0708|       1|      3|\n",
      "|       1|     3|  1|  4|    1|    1|   16.7|       0|      1|\n",
      "|       1|     1|  1| 58|    0|    0|  26.55|       0|      1|\n",
      "|       0|     3|  0| 20|    0|    0|   8.05|       0|      3|\n",
      "|       0|     3|  0| 39|    1|    5| 31.275|       0|      3|\n",
      "|       0|     3|  1| 14|    0|    0| 7.8542|       0|      1|\n",
      "|       1|     2|  1| 55|    0|    0|   16.0|       0|      3|\n",
      "|       0|     3|  0|  2|    4|    1| 29.125|       2|      7|\n",
      "|       1|     2|  0| 29|    0|    0|   13.0|       0|      3|\n",
      "|       0|     3|  1| 31|    1|    0|   18.0|       0|      3|\n",
      "|       1|     3|  1| 29|    0|    0|  7.225|       1|      3|\n",
      "+--------+------+---+---+-----+-----+-------+--------+-------+\n",
      "only showing top 20 rows\n",
      "\n"
     ]
    }
   ],
   "source": [
    "data.show()"
   ]
  },
  {
   "cell_type": "code",
   "execution_count": 26,
   "id": "8b102db5-5505-477f-a996-866b5ab3e021",
   "metadata": {},
   "outputs": [],
   "source": [
    "output = featureassembler.transform(data)"
   ]
  },
  {
   "cell_type": "code",
   "execution_count": 27,
   "id": "41597c75-d4a9-4c77-adf7-98ff73f8f75e",
   "metadata": {},
   "outputs": [],
   "source": [
    "output = output.select(\"Ind\", \"Survived\")"
   ]
  },
  {
   "cell_type": "code",
   "execution_count": 28,
   "id": "cd87525f-d68b-4415-9fee-36d8642cb448",
   "metadata": {},
   "outputs": [],
   "source": [
    "train_data , test_data = output.randomSplit([0.75,0.25])"
   ]
  },
  {
   "cell_type": "code",
   "execution_count": 29,
   "id": "17cefae9-e00d-4dd4-b2c7-c362ad131dee",
   "metadata": {},
   "outputs": [],
   "source": [
    "from pyspark.ml.classification import RandomForestClassifier\n",
    "\n",
    "classific = RandomForestClassifier(featuresCol='Ind', labelCol='Survived')\n"
   ]
  },
  {
   "cell_type": "code",
   "execution_count": 30,
   "id": "d66ab1a8-293f-44dd-8e78-f02dba0e6566",
   "metadata": {},
   "outputs": [],
   "source": [
    "classific = classific.fit(train_data)"
   ]
  },
  {
   "cell_type": "code",
   "execution_count": 31,
   "id": "14862461-9553-467b-aaa7-f26aa6079b83",
   "metadata": {},
   "outputs": [],
   "source": [
    "pred_results = classific.evaluate(test_data)"
   ]
  },
  {
   "cell_type": "code",
   "execution_count": 32,
   "id": "7ed51e46-db94-41fe-a5e9-1b518a94dea2",
   "metadata": {},
   "outputs": [
    {
     "data": {
      "text/plain": [
       "0.8620689655172413"
      ]
     },
     "execution_count": 32,
     "metadata": {},
     "output_type": "execute_result"
    }
   ],
   "source": [
    "pred_results.accuracy"
   ]
  },
  {
   "cell_type": "code",
   "execution_count": 36,
   "id": "1e7e4502-9144-4b48-9bed-3ddeffc8bb00",
   "metadata": {},
   "outputs": [
    {
     "data": {
      "text/plain": [
       "0.9049829278702516"
      ]
     },
     "execution_count": 36,
     "metadata": {},
     "output_type": "execute_result"
    }
   ],
   "source": [
    "pred_results.areaUnderROC"
   ]
  }
 ],
 "metadata": {
  "kernelspec": {
   "display_name": "Python 3",
   "language": "python",
   "name": "python3"
  },
  "language_info": {
   "codemirror_mode": {
    "name": "ipython",
    "version": 3
   },
   "file_extension": ".py",
   "mimetype": "text/x-python",
   "name": "python",
   "nbconvert_exporter": "python",
   "pygments_lexer": "ipython3",
   "version": "3.9.6"
  }
 },
 "nbformat": 4,
 "nbformat_minor": 5
}
